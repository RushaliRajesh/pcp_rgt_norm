{
 "cells": [
  {
   "cell_type": "code",
   "execution_count": 39,
   "metadata": {},
   "outputs": [],
   "source": [
    "import open3d as o3d\n",
    "import numpy as np\n",
    "\n",
    "# Create a mesh of a sphere\n",
    "mesh = o3d.geometry.TriangleMesh.create_sphere(radius=1.0)\n",
    "mesh.compute_vertex_normals()\n",
    "\n",
    "# Sample points uniformly from the sphere mesh\n",
    "pcd_uniform = mesh.sample_points_poisson_disk(number_of_points=4096)\n",
    "\n",
    "# Convert Open3D PointCloud to NumPy array for manipulation\n",
    "points = np.asarray(pcd_uniform.points)\n",
    "\n",
    "# std_dev = 0.1\n",
    "# noise = np.random.normal(0, std_dev, points.shape)\n",
    "# points += noise\n",
    "\n",
    "# Create a new point cloud with non-uniform sampling and noise\n",
    "pcd_non_uniform_noisy = o3d.geometry.PointCloud()\n",
    "pcd_non_uniform_noisy.points = o3d.utility.Vector3dVector(points)\n",
    "\n",
    "# Visualize the non-uniformly sampled point cloud with noise\n",
    "o3d.visualization.draw_geometries([pcd_non_uniform_noisy])\n"
   ]
  },
  {
   "cell_type": "code",
   "execution_count": 40,
   "metadata": {},
   "outputs": [],
   "source": [
    "import open3d as o3d\n",
    "import numpy as np\n",
    "\n",
    "# Create a mesh of a sphere\n",
    "mesh = o3d.geometry.TriangleMesh.create_sphere(radius=1.0)\n",
    "mesh.compute_vertex_normals()\n",
    "\n",
    "# Sample points uniformly from the sphere mesh\n",
    "pcd_uniform = mesh.sample_points_poisson_disk(number_of_points=4096)\n",
    "\n",
    "# Convert Open3D PointCloud to NumPy array for manipulation\n",
    "points = np.asarray(pcd_uniform.points)\n",
    "\n",
    "# Apply non-uniform density based on distance from origin\n",
    "# Calculate the distance of each point from the origin\n",
    "distances = np.linalg.norm(points, axis=1)\n",
    "\n",
    "# Determine a threshold distance for higher density\n",
    "threshold_distance = 0.5\n",
    "\n",
    "# Indices of points within the higher density region\n",
    "high_density_indices = np.where(distances < threshold_distance)[0]\n",
    "\n",
    "# Duplicate points within the higher density region\n",
    "# Here we're simply concatenating the high-density points to the original points\n",
    "# You could also apply a more complex function to vary the number of duplicates based on distance or other criteria\n",
    "points = np.concatenate((points, points[high_density_indices]), axis=0)\n",
    "\n",
    "# Optionally, you can add noise to the entire point set again\n",
    "# std_dev = 0.1\n",
    "# noise = np.random.normal(0, std_dev, points.shape)\n",
    "# points += noise\n",
    "\n",
    "# Create a new point cloud with the manipulated point distribution\n",
    "pcd_non_uniform_noisy = o3d.geometry.PointCloud()\n",
    "pcd_non_uniform_noisy.points = o3d.utility.Vector3dVector(points)\n",
    "\n",
    "# Visualize the non-uniformly sampled point cloud with noise\n",
    "o3d.visualization.draw_geometries([pcd_non_uniform_noisy])\n"
   ]
  },
  {
   "cell_type": "code",
   "execution_count": 46,
   "metadata": {},
   "outputs": [],
   "source": [
    "import open3d as o3d\n",
    "import numpy as np\n",
    "import torch\n",
    "from torch.utils.data import DataLoader, TensorDataset, WeightedRandomSampler\n",
    "\n",
    "# Create a mesh of a sphere\n",
    "mesh = o3d.geometry.TriangleMesh.create_sphere(radius=1.0)\n",
    "mesh.compute_vertex_normals()\n",
    "\n",
    "# Sample points uniformly from the sphere mesh to create an initial point cloud\n",
    "pcd_uniform = mesh.sample_points_poisson_disk(number_of_points=8192)\n",
    "\n",
    "# Convert Open3D PointCloud to NumPy array for manipulation\n",
    "points = np.asarray(pcd_uniform.points)\n",
    "\n",
    "# Define a simple criterion for non-uniformity based on the z-coordinate\n",
    "# In this case, points with higher z-coordinate values will have higher sampling probability\n",
    "weights = points[:, 2]  # Using the z-coordinate as weight\n",
    "weights = weights - np.min(weights) + 1  # Making sure all weights are positive and not zero\n",
    "\n",
    "# Convert points and weights to PyTorch tensors\n",
    "points_tensor = torch.tensor(points, dtype=torch.float32)\n",
    "weights_tensor = torch.tensor(weights, dtype=torch.float32)\n",
    "\n",
    "# Create a WeightedRandomSampler to sample points with the given weights\n",
    "num_samples_to_select = 4096  # You can adjust this number\n",
    "sampler = WeightedRandomSampler(weights_tensor, num_samples=num_samples_to_select, replacement=True)\n",
    "\n",
    "# Create a DataLoader with the sampler\n",
    "points_dataset = TensorDataset(points_tensor)\n",
    "points_loader = DataLoader(points_dataset, batch_size=1, sampler=sampler)\n",
    "\n",
    "# Sample points based on the defined weights\n",
    "sampled_points_list = []\n",
    "for point in points_loader:\n",
    "    sampled_points_list.append(point[0].numpy())\n",
    "\n",
    "# Convert the list of sampled points to a NumPy array\n",
    "sampled_points = np.vstack(sampled_points_list)\n",
    "\n",
    "# Create a new point cloud with the non-uniformly sampled points\n",
    "pcd_non_uniform = o3d.geometry.PointCloud()\n",
    "pcd_non_uniform.points = o3d.utility.Vector3dVector(sampled_points)\n",
    "\n",
    "# Visualize the non-uniformly sampled point cloud\n",
    "o3d.visualization.draw_geometries([pcd_non_uniform])\n"
   ]
  },
  {
   "cell_type": "code",
   "execution_count": 47,
   "metadata": {},
   "outputs": [
    {
     "name": "stdout",
     "output_type": "stream",
     "text": [
      "(1321, 3)\n"
     ]
    }
   ],
   "source": [
    "# inp_pcd = o3d.geometry.PointCloud()\n",
    "# inp_pcd.points = o3d.utility.Vector3dVector(points)\n",
    "down_samp = pcd_non_uniform.voxel_down_sample( voxel_size=0.1)\n",
    "print(np.array(down_samp.points).shape)\n",
    "# inp_pcd.paint_uniform_color([1, 0, 0])  # Sets the point cloud color to red\n",
    "# down_samp.paint_uniform_color([0, 1, 0])  # Sets the point cloud color to green\n",
    "o3d.visualization.draw_geometries([down_samp])"
   ]
  },
  {
   "cell_type": "code",
   "execution_count": null,
   "metadata": {},
   "outputs": [],
   "source": []
  }
 ],
 "metadata": {
  "kernelspec": {
   "display_name": "pytorch3d",
   "language": "python",
   "name": "python3"
  },
  "language_info": {
   "codemirror_mode": {
    "name": "ipython",
    "version": 3
   },
   "file_extension": ".py",
   "mimetype": "text/x-python",
   "name": "python",
   "nbconvert_exporter": "python",
   "pygments_lexer": "ipython3",
   "version": "3.9.18"
  }
 },
 "nbformat": 4,
 "nbformat_minor": 2
}
